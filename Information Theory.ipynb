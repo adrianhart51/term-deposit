{
 "cells": [
  {
   "cell_type": "code",
   "execution_count": 23,
   "metadata": {
    "collapsed": false
   },
   "outputs": [
    {
     "data": {
      "text/plain": [
       "0.5206312212538164"
      ]
     },
     "execution_count": 23,
     "metadata": {},
     "output_type": "execute_result"
    }
   ],
   "source": [
    "import pandas as pd\n",
    "import math\n",
    "\n",
    "df = pd.read_csv(\"bank-full.csv\", sep=\";\")\n",
    "\n",
    "def calculate_entropy(df, classifier, value):\n",
    "    num_total = len(df)\n",
    "    num_positives = len(df.loc[df[classifier] == value])\n",
    "    num_negatives = num_total - num_positives\n",
    "    entropy = 0\n",
    "\n",
    "    p = num_positives / num_total\n",
    "    if (p != 0):\n",
    "        entropy += p * math.log(p,2)\n",
    "\n",
    "    p = num_negatives / num_total\n",
    "    if (p != 0):\n",
    "        entropy += p * math.log(p,2)\n",
    "    \n",
    "    entropy = -entropy\n",
    "\n",
    "    return entropy\n",
    "\n",
    "calculate_entropy(df,\"y\",\"yes\")"
   ]
  },
  {
   "cell_type": "code",
   "execution_count": null,
   "metadata": {
    "collapsed": false
   },
   "outputs": [],
   "source": []
  },
  {
   "cell_type": "code",
   "execution_count": null,
   "metadata": {
    "collapsed": true
   },
   "outputs": [],
   "source": []
  }
 ],
 "metadata": {
  "kernelspec": {
   "display_name": "Python 3",
   "language": "python",
   "name": "python3"
  },
  "language_info": {
   "codemirror_mode": {
    "name": "ipython",
    "version": 3
   },
   "file_extension": ".py",
   "mimetype": "text/x-python",
   "name": "python",
   "nbconvert_exporter": "python",
   "pygments_lexer": "ipython3",
   "version": "3.6.0"
  }
 },
 "nbformat": 4,
 "nbformat_minor": 2
}
